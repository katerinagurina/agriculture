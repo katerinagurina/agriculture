{
 "cells": [
  {
   "cell_type": "code",
   "execution_count": 1,
   "metadata": {},
   "outputs": [],
   "source": [
    "import numpy as np\n",
    "import pandas as pd\n",
    "from PIL import Image\n",
    "import matplotlib.pyplot as plt\n",
    "%matplotlib inline"
   ]
  },
  {
   "cell_type": "code",
   "execution_count": 2,
   "metadata": {},
   "outputs": [],
   "source": [
    "crops = np.array(Image.open('/Users/vasilii/Dropbox/minnesota/crops_map.tif'))\n",
    "band_01 = np.array(Image.open('/Users/vasilii/Dropbox/minnesota/band_01.tif'))\n",
    "band_02 = np.array(Image.open('/Users/vasilii/Dropbox/minnesota/band_02.tif'))\n",
    "band_03 = np.array(Image.open('/Users/vasilii/Dropbox/minnesota/band_03.tif'))\n",
    "band_04 = np.array(Image.open('/Users/vasilii/Dropbox/minnesota/band_04.tif'))\n",
    "band_05 = np.array(Image.open('/Users/vasilii/Dropbox/minnesota/band_05.tif'))\n",
    "band_06 = np.array(Image.open('/Users/vasilii/Dropbox/minnesota/band_06.tif'))\n",
    "band_07 = np.array(Image.open('/Users/vasilii/Dropbox/minnesota/band_07.tif'))\n",
    "band_08 = np.array(Image.open('/Users/vasilii/Dropbox/minnesota/band_08.tif'))\n",
    "band_8A = np.array(Image.open('/Users/vasilii/Dropbox/minnesota/band_8A.tif'))\n",
    "band_09 = np.array(Image.open('/Users/vasilii/Dropbox/minnesota/band_09.tif'))\n",
    "band_10 = np.array(Image.open('/Users/vasilii/Dropbox/minnesota/band_10.tif'))\n",
    "band_11 = np.array(Image.open('/Users/vasilii/Dropbox/minnesota/band_11.tif'))\n",
    "band_12 = np.array(Image.open('/Users/vasilii/Dropbox/minnesota/band_12.tif'))"
   ]
  },
  {
   "cell_type": "code",
   "execution_count": 3,
   "metadata": {},
   "outputs": [],
   "source": [
    "from sklearn.preprocessing import normalize"
   ]
  },
  {
   "cell_type": "code",
   "execution_count": 4,
   "metadata": {},
   "outputs": [],
   "source": [
    "band_01 = normalize(band_01)\n",
    "band_02 = normalize(band_02)\n",
    "band_03 = normalize(band_03)\n",
    "band_04 = normalize(band_04)\n",
    "band_05 = normalize(band_05)\n",
    "band_06 = normalize(band_06)\n",
    "band_07 = normalize(band_07)\n",
    "band_08 = normalize(band_08)\n",
    "band_8A = normalize(band_8A)\n",
    "band_09 = normalize(band_09)\n",
    "band_10 = normalize(band_10)\n",
    "band_11 = normalize(band_11)\n",
    "band_12 = normalize(band_12)"
   ]
  },
  {
   "cell_type": "code",
   "execution_count": 5,
   "metadata": {},
   "outputs": [],
   "source": [
    "ndvi = (band_08 - band_04) / (band_08 + band_04)\n",
    "evi = 2.5*(band_08 - band_04) / (band_08 + 6*band_04 - 7.5*band_02 + 1)\n",
    "lswi = (band_08 - band_11) / (band_08 + band_11)"
   ]
  },
  {
   "cell_type": "code",
   "execution_count": 6,
   "metadata": {},
   "outputs": [],
   "source": [
    "def extend(input_image, radius, boundary='zero'):\n",
    "    if input_image.ndim == 2:\n",
    "        extended_image = np.zeros((input_image.shape[0]+2*radius, input_image.shape[1]+2*radius),\n",
    "                                  dtype=input_image.dtype)\n",
    "    else:\n",
    "        extended_image = np.zeros((input_image.shape[0]+2*radius, input_image.shape[1]+2*radius, input_image.shape[2]),\n",
    "                                 dtype=input_image.dtype)\n",
    "    extended_image[radius:-radius,radius:-radius] = input_image\n",
    "    \n",
    "    if boundary == 'periodic':\n",
    "        extended_image[:radius,:radius] = input_image[-radius:,-radius:]\n",
    "        extended_image[-radius:,-radius:] = input_image[:radius,:radius]\n",
    "        extended_image[:radius,-radius:] = input_image[-radius:,:radius]\n",
    "        extended_image[-radius:,:radius] = input_image[:radius,-radius:]\n",
    "\n",
    "        extended_image[:radius,radius:-radius] = input_image[-radius:,:]\n",
    "        extended_image[-radius:,radius:-radius] = input_image[:radius,:]\n",
    "        extended_image[radius:-radius, :radius] = input_image[:,-radius:]\n",
    "        extended_image[radius:-radius, -radius:] = input_image[:,:radius]\n",
    "    elif boundary == 'mirror':\n",
    "        extended_image[:radius,:radius] = np.flipud(np.fliplr(input_image[:radius,:radius]))\n",
    "        extended_image[-radius:,-radius:] = np.flipud(np.fliplr(input_image[-radius:,-radius:]))\n",
    "        extended_image[:radius,-radius:] = np.flipud(np.fliplr(input_image[:radius,-radius:]))\n",
    "        extended_image[-radius:,:radius] = np.flipud(np.fliplr(input_image[-radius:,:radius]))\n",
    "\n",
    "        extended_image[:radius,radius:-radius] = np.flipud(input_image[:radius,:])\n",
    "        extended_image[-radius:,radius:-radius] = np.flipud(input_image[-radius:,:])\n",
    "        extended_image[radius:-radius, :radius] = np.fliplr(input_image[:,:radius])\n",
    "        extended_image[radius:-radius, -radius:] = np.fliplr(input_image[:,-radius:])\n",
    "    \n",
    "    return extended_image"
   ]
  },
  {
   "cell_type": "code",
   "execution_count": 7,
   "metadata": {},
   "outputs": [],
   "source": [
    "crops = extend(crops, 100)\n",
    "band_01 = extend(band_01, 100, boundary='mirror')\n",
    "band_02 = extend(band_02, 100, boundary='mirror')\n",
    "band_03 = extend(band_03, 100, boundary='mirror')\n",
    "band_04 = extend(band_04, 100, boundary='mirror')\n",
    "band_05 = extend(band_05, 100, boundary='mirror')\n",
    "band_06 = extend(band_06, 100, boundary='mirror')\n",
    "band_07 = extend(band_07, 100, boundary='mirror')\n",
    "band_08 = extend(band_08, 100, boundary='mirror')\n",
    "band_8A = extend(band_8A, 100, boundary='mirror')\n",
    "band_09 = extend(band_09, 100, boundary='mirror')\n",
    "band_10 = extend(band_10, 100, boundary='mirror')\n",
    "band_11 = extend(band_11, 100, boundary='mirror')\n",
    "band_12 = extend(band_12, 100, boundary='mirror')\n",
    "ndvi = extend(ndvi, 100, boundary='mirror')\n",
    "evi = extend(evi, 100, boundary='mirror')\n",
    "lswi = extend(lswi, 100, boundary='mirror')"
   ]
  },
  {
   "cell_type": "code",
   "execution_count": 22,
   "metadata": {},
   "outputs": [],
   "source": [
    "corn = np.where(crops==1)\n",
    "wheat = np.where(crops==23)\n",
    "soybeans = np.where(crops==5)\n",
    "drybeans = np.where(crops==42)\n",
    "sugarbeets = np.where(crops==41)"
   ]
  },
  {
   "cell_type": "code",
   "execution_count": 23,
   "metadata": {},
   "outputs": [
    {
     "name": "stdout",
     "output_type": "stream",
     "text": [
      "(1653315,)\n",
      "(2599875,)\n",
      "(3152724,)\n",
      "(594144,)\n",
      "(1201371,)\n"
     ]
    }
   ],
   "source": [
    "print(corn[0].shape)\n",
    "print(wheat[0].shape)\n",
    "print(soybeans[0].shape)\n",
    "print(drybeans[0].shape)\n",
    "print(sugarbeets[0].shape)"
   ]
  },
  {
   "cell_type": "code",
   "execution_count": 24,
   "metadata": {},
   "outputs": [],
   "source": [
    "sample_size = 1000\n",
    "r = np.random.choice(range(len(corn[0])), size=sample_size, replace=False)\n",
    "corn = (corn[0][r], corn[1][r])\n",
    "r = np.random.choice(range(len(wheat[0])), size=sample_size, replace=False)\n",
    "wheat = (wheat[0][r], wheat[1][r])\n",
    "r = np.random.choice(range(len(soybeans[0])), size=sample_size, replace=False)\n",
    "soybeans = (soybeans[0][r], soybeans[1][r])\n",
    "r = np.random.choice(range(len(drybeans[0])), size=sample_size, replace=False)\n",
    "drybeans = (drybeans[0][r], drybeans[1][r])\n",
    "r = np.random.choice(range(len(sugarbeets[0])), size=sample_size, replace=False)\n",
    "sugarbeets = (sugarbeets[0][r], sugarbeets[1][r])"
   ]
  },
  {
   "cell_type": "code",
   "execution_count": 25,
   "metadata": {},
   "outputs": [],
   "source": [
    "s = 22 # neighborhood radius of the classified pixel\n",
    "\n",
    "# feature to use\n",
    "feature_1 = ndvi\n",
    "feature_2 = evi\n",
    "feature_3 = lswi\n",
    "\n",
    "images_corn = [np.dstack([feature_1[pixel[0]-s:pixel[0]+s+1, pixel[1]-s:pixel[1]+s+1],\n",
    "                feature_2[pixel[0]-s:pixel[0]+s+1, pixel[1]-s:pixel[1]+s+1],\n",
    "                feature_3[pixel[0]-s:pixel[0]+s+1, pixel[1]-s:pixel[1]+s+1]]) for pixel in np.column_stack((corn[0], corn[1]))]\n",
    "\n",
    "images_wheat = [np.dstack([feature_1[pixel[0]-s:pixel[0]+s+1, pixel[1]-s:pixel[1]+s+1],\n",
    "                feature_2[pixel[0]-s:pixel[0]+s+1, pixel[1]-s:pixel[1]+s+1],\n",
    "                feature_3[pixel[0]-s:pixel[0]+s+1, pixel[1]-s:pixel[1]+s+1]]) for pixel in np.column_stack((wheat[0], wheat[1]))]\n",
    "\n",
    "images_soybeans = [np.dstack([feature_1[pixel[0]-s:pixel[0]+s+1, pixel[1]-s:pixel[1]+s+1],\n",
    "                feature_2[pixel[0]-s:pixel[0]+s+1, pixel[1]-s:pixel[1]+s+1],\n",
    "        feature_3[pixel[0]-s:pixel[0]+s+1, pixel[1]-s:pixel[1]+s+1]]) for pixel in np.column_stack((soybeans[0], soybeans[1]))]\n",
    "\n",
    "images_drybeans = [np.dstack([feature_1[pixel[0]-s:pixel[0]+s+1, pixel[1]-s:pixel[1]+s+1],\n",
    "                feature_2[pixel[0]-s:pixel[0]+s+1, pixel[1]-s:pixel[1]+s+1],\n",
    "        feature_3[pixel[0]-s:pixel[0]+s+1, pixel[1]-s:pixel[1]+s+1]]) for pixel in np.column_stack((drybeans[0], drybeans[1]))]\n",
    "\n",
    "images_sugarbeets = [np.dstack([feature_1[pixel[0]-s:pixel[0]+s+1, pixel[1]-s:pixel[1]+s+1],\n",
    "                feature_2[pixel[0]-s:pixel[0]+s+1, pixel[1]-s:pixel[1]+s+1],\n",
    "        feature_3[pixel[0]-s:pixel[0]+s+1, pixel[1]-s:pixel[1]+s+1]]) for pixel in np.column_stack((sugarbeets[0], sugarbeets[1]))]"
   ]
  },
  {
   "cell_type": "code",
   "execution_count": 26,
   "metadata": {},
   "outputs": [],
   "source": [
    "X = np.vstack((images_corn, images_wheat, images_soybeans, images_drybeans, images_sugarbeets))\n",
    "y = np.hstack(([0]*len(images_corn), [1]*len(images_wheat), [2]*len(images_soybeans), [3]*len(images_drybeans), [4]*len(images_sugarbeets)))"
   ]
  },
  {
   "cell_type": "code",
   "execution_count": 27,
   "metadata": {},
   "outputs": [
    {
     "data": {
      "text/plain": [
       "<matplotlib.image.AxesImage at 0x1263e5390>"
      ]
     },
     "execution_count": 27,
     "metadata": {},
     "output_type": "execute_result"
    },
    {
     "data": {
      "image/png": "[encoded data removed]",
      "text/plain": [
       "<matplotlib.figure.Figure at 0x126614240>"
      ]
     },
     "metadata": {},
     "output_type": "display_data"
    }
   ],
   "source": [
    "plt.imshow(X[0][...,0])"
   ]
  },
  {
   "cell_type": "code",
   "execution_count": 28,
   "metadata": {},
   "outputs": [],
   "source": [
    "from keras.models import Sequential\n",
    "from keras.layers import Dense, Flatten, Activation\n",
    "from keras.layers import Conv2D, MaxPooling2D, Dropout\n",
    "from keras.optimizers import Adam\n",
    "from keras.callbacks import ModelCheckpoint, EarlyStopping"
   ]
  },
  {
   "cell_type": "code",
   "execution_count": 29,
   "metadata": {},
   "outputs": [
    {
     "name": "stdout",
     "output_type": "stream",
     "text": [
      "_________________________________________________________________\n",
      "Layer (type)                 Output Shape              Param #   \n",
      "=================================================================\n",
      "conv2d_3 (Conv2D)            (None, 44, 44, 50)        650       \n",
      "_________________________________________________________________\n",
      "max_pooling2d_3 (MaxPooling2 (None, 19, 19, 50)        0         \n",
      "_________________________________________________________________\n",
      "dropout_4 (Dropout)          (None, 19, 19, 50)        0         \n",
      "_________________________________________________________________\n",
      "conv2d_4 (Conv2D)            (None, 18, 18, 50)        10050     \n",
      "_________________________________________________________________\n",
      "max_pooling2d_4 (MaxPooling2 (None, 6, 6, 50)          0         \n",
      "_________________________________________________________________\n",
      "dropout_5 (Dropout)          (None, 6, 6, 50)          0         \n",
      "_________________________________________________________________\n",
      "flatten_2 (Flatten)          (None, 1800)              0         \n",
      "_________________________________________________________________\n",
      "dense_3 (Dense)              (None, 1000)              1801000   \n",
      "_________________________________________________________________\n",
      "activation_3 (Activation)    (None, 1000)              0         \n",
      "_________________________________________________________________\n",
      "dropout_6 (Dropout)          (None, 1000)              0         \n",
      "_________________________________________________________________\n",
      "dense_4 (Dense)              (None, 5)                 5005      \n",
      "_________________________________________________________________\n",
      "activation_4 (Activation)    (None, 5)                 0         \n",
      "=================================================================\n",
      "Total params: 1,816,705\n",
      "Trainable params: 1,816,705\n",
      "Non-trainable params: 0\n",
      "_________________________________________________________________\n"
     ]
    }
   ],
   "source": [
    "#Building the model\n",
    "gmodel = Sequential()\n",
    "#Conv Layer 1\n",
    "gmodel.add(Conv2D(50, kernel_size=(2,2), activation='relu', input_shape=(45,45,3)))\n",
    "gmodel.add(MaxPooling2D(pool_size=(8,8), strides=(2,2)))\n",
    "gmodel.add(Dropout(0.5))\n",
    "\n",
    "#Conv Layer 2\n",
    "gmodel.add(Conv2D(50, kernel_size=(2,2), activation='relu'))\n",
    "gmodel.add(MaxPooling2D(pool_size=(8,8), strides=(2,2)))\n",
    "gmodel.add(Dropout(0.5))\n",
    "\n",
    "#Flatten the data for upcoming dense layers\n",
    "gmodel.add(Flatten())\n",
    "\n",
    "#Dense Layers\n",
    "gmodel.add(Dense(1000))\n",
    "gmodel.add(Activation('relu'))\n",
    "gmodel.add(Dropout(0.5))\n",
    "\n",
    "#Sigmoid Layer\n",
    "gmodel.add(Dense(5))\n",
    "gmodel.add(Activation('softmax'))\n",
    "\n",
    "mypotim = Adam(lr=0.001, beta_1=0.9, beta_2=0.999, epsilon=1e-08, decay=0.0)\n",
    "gmodel.compile(loss='sparse_categorical_crossentropy', optimizer=mypotim, metrics=['sparse_categorical_accuracy'])\n",
    "gmodel.summary()"
   ]
  },
  {
   "cell_type": "code",
   "execution_count": 16,
   "metadata": {},
   "outputs": [],
   "source": [
    "from sklearn.model_selection import train_test_split"
   ]
  },
  {
   "cell_type": "code",
   "execution_count": 30,
   "metadata": {},
   "outputs": [],
   "source": [
    "X_train, X_valid, y_train, y_valid = train_test_split(X, y, random_state=1, test_size=0.25)"
   ]
  },
  {
   "cell_type": "code",
   "execution_count": 31,
   "metadata": {},
   "outputs": [],
   "source": [
    "es = EarlyStopping('val_loss', patience=10, mode=\"min\")\n",
    "msave = ModelCheckpoint('.model_weights.hdf5', monitor='loss', save_best_only=True)\n",
    "callbacks = [es, msave]"
   ]
  },
  {
   "cell_type": "code",
   "execution_count": 32,
   "metadata": {
    "scrolled": false
   },
   "outputs": [
    {
     "name": "stdout",
     "output_type": "stream",
     "text": [
      "Train on 3750 samples, validate on 1250 samples\n",
      "Epoch 1/100\n",
      "3750/3750 [==============================] - 17s 4ms/step - loss: 0.9353 - sparse_categorical_accuracy: 0.6141 - val_loss: 1.2298 - val_sparse_categorical_accuracy: 0.5528\n",
      "Epoch 2/100\n",
      "3750/3750 [==============================] - 16s 4ms/step - loss: 0.5755 - sparse_categorical_accuracy: 0.7952 - val_loss: 1.3095 - val_sparse_categorical_accuracy: 0.4416\n",
      "Epoch 3/100\n",
      "3750/3750 [==============================] - 16s 4ms/step - loss: 0.4836 - sparse_categorical_accuracy: 0.8325 - val_loss: 1.2401 - val_sparse_categorical_accuracy: 0.4104\n",
      "Epoch 4/100\n",
      "3750/3750 [==============================] - 16s 4ms/step - loss: 0.4282 - sparse_categorical_accuracy: 0.8581 - val_loss: 1.0222 - val_sparse_categorical_accuracy: 0.7416\n",
      "Epoch 5/100\n",
      "3750/3750 [==============================] - 17s 4ms/step - loss: 0.4005 - sparse_categorical_accuracy: 0.8619 - val_loss: 1.1825 - val_sparse_categorical_accuracy: 0.5792\n",
      "Epoch 6/100\n",
      "3750/3750 [==============================] - 16s 4ms/step - loss: 0.4039 - sparse_categorical_accuracy: 0.8677 - val_loss: 1.0933 - val_sparse_categorical_accuracy: 0.5928\n",
      "Epoch 7/100\n",
      "3750/3750 [==============================] - 16s 4ms/step - loss: 0.3719 - sparse_categorical_accuracy: 0.8741 - val_loss: 1.1290 - val_sparse_categorical_accuracy: 0.5432\n",
      "Epoch 8/100\n",
      "3750/3750 [==============================] - 16s 4ms/step - loss: 0.3553 - sparse_categorical_accuracy: 0.8829 - val_loss: 0.8084 - val_sparse_categorical_accuracy: 0.7624\n",
      "Epoch 9/100\n",
      "3750/3750 [==============================] - 16s 4ms/step - loss: 0.3553 - sparse_categorical_accuracy: 0.8835 - val_loss: 1.1400 - val_sparse_categorical_accuracy: 0.5880\n",
      "Epoch 10/100\n",
      "3750/3750 [==============================] - 16s 4ms/step - loss: 0.3401 - sparse_categorical_accuracy: 0.8883 - val_loss: 0.9097 - val_sparse_categorical_accuracy: 0.6336\n",
      "Epoch 11/100\n",
      "3750/3750 [==============================] - 16s 4ms/step - loss: 0.3413 - sparse_categorical_accuracy: 0.8848 - val_loss: 1.0064 - val_sparse_categorical_accuracy: 0.5528\n",
      "Epoch 12/100\n",
      "3750/3750 [==============================] - 16s 4ms/step - loss: 0.3374 - sparse_categorical_accuracy: 0.8875 - val_loss: 0.6181 - val_sparse_categorical_accuracy: 0.8288\n",
      "Epoch 13/100\n",
      "3750/3750 [==============================] - 16s 4ms/step - loss: 0.3225 - sparse_categorical_accuracy: 0.8928 - val_loss: 1.1435 - val_sparse_categorical_accuracy: 0.5416\n",
      "Epoch 14/100\n",
      "3750/3750 [==============================] - 17s 4ms/step - loss: 0.3246 - sparse_categorical_accuracy: 0.8848 - val_loss: 0.9261 - val_sparse_categorical_accuracy: 0.6304\n",
      "Epoch 15/100\n",
      "3750/3750 [==============================] - 17s 4ms/step - loss: 0.3193 - sparse_categorical_accuracy: 0.8931 - val_loss: 0.9238 - val_sparse_categorical_accuracy: 0.6376accura - ETA: 4s - los\n",
      "Epoch 16/100\n",
      "3750/3750 [==============================] - 17s 4ms/step - loss: 0.3186 - sparse_categorical_accuracy: 0.8965 - val_loss: 0.9144 - val_sparse_categorical_accuracy: 0.5704\n",
      "Epoch 17/100\n",
      "3750/3750 [==============================] - 18s 5ms/step - loss: 0.3131 - sparse_categorical_accuracy: 0.8949 - val_loss: 1.0483 - val_sparse_categorical_accuracy: 0.6296\n",
      "Epoch 18/100\n",
      "3750/3750 [==============================] - 17s 4ms/step - loss: 0.3115 - sparse_categorical_accuracy: 0.8933 - val_loss: 0.7039 - val_sparse_categorical_accuracy: 0.7672\n",
      "Epoch 19/100\n",
      "3750/3750 [==============================] - 16s 4ms/step - loss: 0.3029 - sparse_categorical_accuracy: 0.9019 - val_loss: 0.7107 - val_sparse_categorical_accuracy: 0.7776\n",
      "Epoch 20/100\n",
      "3750/3750 [==============================] - 16s 4ms/step - loss: 0.3422 - sparse_categorical_accuracy: 0.8851 - val_loss: 0.8673 - val_sparse_categorical_accuracy: 0.5904\n",
      "Epoch 21/100\n",
      "3750/3750 [==============================] - 16s 4ms/step - loss: 0.2934 - sparse_categorical_accuracy: 0.8997 - val_loss: 0.5813 - val_sparse_categorical_accuracy: 0.8112\n",
      "Epoch 22/100\n",
      "3750/3750 [==============================] - 16s 4ms/step - loss: 0.2792 - sparse_categorical_accuracy: 0.8995 - val_loss: 0.6081 - val_sparse_categorical_accuracy: 0.8248\n",
      "Epoch 23/100\n",
      "3750/3750 [==============================] - 16s 4ms/step - loss: 0.2874 - sparse_categorical_accuracy: 0.9075 - val_loss: 0.8148 - val_sparse_categorical_accuracy: 0.6704\n",
      "Epoch 24/100\n",
      "3750/3750 [==============================] - 18s 5ms/step - loss: 0.2755 - sparse_categorical_accuracy: 0.9061 - val_loss: 0.7658 - val_sparse_categorical_accuracy: 0.6560\n",
      "Epoch 25/100\n",
      "3750/3750 [==============================] - 16s 4ms/step - loss: 0.2728 - sparse_categorical_accuracy: 0.9075 - val_loss: 0.7080 - val_sparse_categorical_accuracy: 0.7176\n",
      "Epoch 26/100\n",
      "3750/3750 [==============================] - 16s 4ms/step - loss: 0.2759 - sparse_categorical_accuracy: 0.9061 - val_loss: 0.5561 - val_sparse_categorical_accuracy: 0.8440\n",
      "Epoch 27/100\n",
      "3750/3750 [==============================] - 17s 5ms/step - loss: 0.2743 - sparse_categorical_accuracy: 0.9064 - val_loss: 0.9927 - val_sparse_categorical_accuracy: 0.6176\n",
      "Epoch 28/100\n",
      "3750/3750 [==============================] - 17s 4ms/step - loss: 0.2697 - sparse_categorical_accuracy: 0.9112 - val_loss: 0.6605 - val_sparse_categorical_accuracy: 0.7920\n",
      "Epoch 29/100\n",
      "3750/3750 [==============================] - 17s 5ms/step - loss: 0.2534 - sparse_categorical_accuracy: 0.9173 - val_loss: 0.5575 - val_sparse_categorical_accuracy: 0.7992\n",
      "Epoch 30/100\n",
      "3750/3750 [==============================] - 16s 4ms/step - loss: 0.2718 - sparse_categorical_accuracy: 0.9056 - val_loss: 0.6098 - val_sparse_categorical_accuracy: 0.7976\n",
      "Epoch 31/100\n",
      "3750/3750 [==============================] - 17s 5ms/step - loss: 0.2621 - sparse_categorical_accuracy: 0.9147 - val_loss: 0.5842 - val_sparse_categorical_accuracy: 0.7880\n",
      "Epoch 32/100\n",
      "3750/3750 [==============================] - 17s 4ms/step - loss: 0.2547 - sparse_categorical_accuracy: 0.9123 - val_loss: 0.6412 - val_sparse_categorical_accuracy: 0.7744\n",
      "Epoch 33/100\n",
      "3750/3750 [==============================] - 17s 4ms/step - loss: 0.2401 - sparse_categorical_accuracy: 0.9181 - val_loss: 0.4805 - val_sparse_categorical_accuracy: 0.8440\n",
      "Epoch 34/100\n",
      "3750/3750 [==============================] - 17s 5ms/step - loss: 0.2564 - sparse_categorical_accuracy: 0.9136 - val_loss: 0.5992 - val_sparse_categorical_accuracy: 0.7752\n",
      "Epoch 35/100\n",
      "3750/3750 [==============================] - 17s 5ms/step - loss: 0.2435 - sparse_categorical_accuracy: 0.9184 - val_loss: 0.4627 - val_sparse_categorical_accuracy: 0.8496\n",
      "Epoch 36/100\n",
      "3750/3750 [==============================] - 18s 5ms/step - loss: 0.2432 - sparse_categorical_accuracy: 0.9208 - val_loss: 0.3923 - val_sparse_categorical_accuracy: 0.8704\n",
      "Epoch 37/100\n",
      "3750/3750 [==============================] - 17s 5ms/step - loss: 0.2428 - sparse_categorical_accuracy: 0.9136 - val_loss: 0.4650 - val_sparse_categorical_accuracy: 0.8456\n",
      "Epoch 38/100\n",
      "3750/3750 [==============================] - 17s 5ms/step - loss: 0.2381 - sparse_categorical_accuracy: 0.9192 - val_loss: 0.5800 - val_sparse_categorical_accuracy: 0.7968\n",
      "Epoch 39/100\n",
      "3750/3750 [==============================] - 17s 5ms/step - loss: 0.2258 - sparse_categorical_accuracy: 0.9240 - val_loss: 0.4089 - val_sparse_categorical_accuracy: 0.8592\n",
      "Epoch 40/100\n",
      "3750/3750 [==============================] - 17s 5ms/step - loss: 0.2336 - sparse_categorical_accuracy: 0.9197 - val_loss: 0.4229 - val_sparse_categorical_accuracy: 0.8616\n",
      "Epoch 41/100\n",
      "3750/3750 [==============================] - 17s 5ms/step - loss: 0.2235 - sparse_categorical_accuracy: 0.9261 - val_loss: 0.4166 - val_sparse_categorical_accuracy: 0.8672\n",
      "Epoch 42/100\n",
      "3750/3750 [==============================] - 17s 5ms/step - loss: 0.2109 - sparse_categorical_accuracy: 0.9285 - val_loss: 0.4599 - val_sparse_categorical_accuracy: 0.8600\n",
      "Epoch 43/100\n",
      "3750/3750 [==============================] - 17s 5ms/step - loss: 0.2215 - sparse_categorical_accuracy: 0.9267 - val_loss: 0.4505 - val_sparse_categorical_accuracy: 0.8528\n",
      "Epoch 44/100\n"
     ]
    },
    {
     "name": "stdout",
     "output_type": "stream",
     "text": [
      "3750/3750 [==============================] - 17s 5ms/step - loss: 0.2207 - sparse_categorical_accuracy: 0.9248 - val_loss: 0.3724 - val_sparse_categorical_accuracy: 0.8816\n",
      "Epoch 45/100\n",
      "3750/3750 [==============================] - 16s 4ms/step - loss: 0.2167 - sparse_categorical_accuracy: 0.9245 - val_loss: 0.4402 - val_sparse_categorical_accuracy: 0.8504\n",
      "Epoch 46/100\n",
      "3750/3750 [==============================] - 16s 4ms/step - loss: 0.2004 - sparse_categorical_accuracy: 0.9277 - val_loss: 0.4683 - val_sparse_categorical_accuracy: 0.8288\n",
      "Epoch 47/100\n",
      "3750/3750 [==============================] - 17s 4ms/step - loss: 0.2083 - sparse_categorical_accuracy: 0.9288 - val_loss: 0.3545 - val_sparse_categorical_accuracy: 0.8800\n",
      "Epoch 48/100\n",
      "3750/3750 [==============================] - 16s 4ms/step - loss: 0.2048 - sparse_categorical_accuracy: 0.9293 - val_loss: 0.4880 - val_sparse_categorical_accuracy: 0.8224\n",
      "Epoch 49/100\n",
      "3750/3750 [==============================] - 16s 4ms/step - loss: 0.2134 - sparse_categorical_accuracy: 0.9291 - val_loss: 0.4048 - val_sparse_categorical_accuracy: 0.8608\n",
      "Epoch 50/100\n",
      "3750/3750 [==============================] - 16s 4ms/step - loss: 0.1990 - sparse_categorical_accuracy: 0.9304 - val_loss: 0.3707 - val_sparse_categorical_accuracy: 0.8864\n",
      "Epoch 51/100\n",
      "3750/3750 [==============================] - 16s 4ms/step - loss: 0.1947 - sparse_categorical_accuracy: 0.9371 - val_loss: 0.4105 - val_sparse_categorical_accuracy: 0.8632\n",
      "Epoch 52/100\n",
      "3750/3750 [==============================] - 17s 4ms/step - loss: 0.1849 - sparse_categorical_accuracy: 0.9331 - val_loss: 0.3199 - val_sparse_categorical_accuracy: 0.8888\n",
      "Epoch 53/100\n",
      "3750/3750 [==============================] - 17s 4ms/step - loss: 0.1921 - sparse_categorical_accuracy: 0.9320 - val_loss: 0.4041 - val_sparse_categorical_accuracy: 0.8736\n",
      "Epoch 54/100\n",
      "3750/3750 [==============================] - 16s 4ms/step - loss: 0.1928 - sparse_categorical_accuracy: 0.9312 - val_loss: 0.3411 - val_sparse_categorical_accuracy: 0.8960\n",
      "Epoch 55/100\n",
      "3750/3750 [==============================] - 16s 4ms/step - loss: 0.1915 - sparse_categorical_accuracy: 0.9312 - val_loss: 0.3599 - val_sparse_categorical_accuracy: 0.8816\n",
      "Epoch 56/100\n",
      "3750/3750 [==============================] - 17s 4ms/step - loss: 0.1906 - sparse_categorical_accuracy: 0.9392 - val_loss: 0.4010 - val_sparse_categorical_accuracy: 0.8640\n",
      "Epoch 57/100\n",
      "3750/3750 [==============================] - 17s 4ms/step - loss: 0.1843 - sparse_categorical_accuracy: 0.9379 - val_loss: 0.3431 - val_sparse_categorical_accuracy: 0.8928\n",
      "Epoch 58/100\n",
      "3750/3750 [==============================] - 16s 4ms/step - loss: 0.1768 - sparse_categorical_accuracy: 0.9419 - val_loss: 0.3156 - val_sparse_categorical_accuracy: 0.8912\n",
      "Epoch 59/100\n",
      "3750/3750 [==============================] - 16s 4ms/step - loss: 0.1775 - sparse_categorical_accuracy: 0.9360 - val_loss: 0.3160 - val_sparse_categorical_accuracy: 0.8968\n",
      "Epoch 60/100\n",
      "3750/3750 [==============================] - 17s 4ms/step - loss: 0.1787 - sparse_categorical_accuracy: 0.9373 - val_loss: 0.3427 - val_sparse_categorical_accuracy: 0.8944\n",
      "Epoch 61/100\n",
      "3750/3750 [==============================] - 17s 4ms/step - loss: 0.1810 - sparse_categorical_accuracy: 0.9312 - val_loss: 0.3724 - val_sparse_categorical_accuracy: 0.8816\n",
      "Epoch 62/100\n",
      "3750/3750 [==============================] - 17s 4ms/step - loss: 0.1670 - sparse_categorical_accuracy: 0.9405 - val_loss: 0.4414 - val_sparse_categorical_accuracy: 0.8584\n",
      "Epoch 63/100\n",
      "3750/3750 [==============================] - 17s 4ms/step - loss: 0.1722 - sparse_categorical_accuracy: 0.9424 - val_loss: 0.3720 - val_sparse_categorical_accuracy: 0.8792\n",
      "Epoch 64/100\n",
      "3750/3750 [==============================] - 17s 4ms/step - loss: 0.1666 - sparse_categorical_accuracy: 0.9413 - val_loss: 0.3758 - val_sparse_categorical_accuracy: 0.8648\n",
      "Epoch 65/100\n",
      "3750/3750 [==============================] - 17s 4ms/step - loss: 0.1772 - sparse_categorical_accuracy: 0.9389 - val_loss: 0.3297 - val_sparse_categorical_accuracy: 0.8952\n",
      "Epoch 66/100\n",
      "3750/3750 [==============================] - 17s 4ms/step - loss: 0.1682 - sparse_categorical_accuracy: 0.9416 - val_loss: 0.4158 - val_sparse_categorical_accuracy: 0.8592\n",
      "Epoch 67/100\n",
      "3750/3750 [==============================] - 17s 4ms/step - loss: 0.1632 - sparse_categorical_accuracy: 0.9435 - val_loss: 0.3358 - val_sparse_categorical_accuracy: 0.8904\n",
      "Epoch 68/100\n",
      "3750/3750 [==============================] - 17s 5ms/step - loss: 0.1682 - sparse_categorical_accuracy: 0.9411 - val_loss: 0.3447 - val_sparse_categorical_accuracy: 0.8848\n"
     ]
    }
   ],
   "source": [
    "history = gmodel.fit(X_train, y_train, batch_size=24, epochs=100, verbose=1,\n",
    "                     validation_data=(X_valid, y_valid), callbacks=callbacks)"
   ]
  },
  {
   "cell_type": "code",
   "execution_count": 50,
   "metadata": {},
   "outputs": [
    {
     "data": {
      "image/png": "[encoded data removed]",
      "text/plain": [
       "<matplotlib.figure.Figure at 0x114bf3f28>"
      ]
     },
     "metadata": {},
     "output_type": "display_data"
    }
   ],
   "source": [
    "plt.plot(history.epoch, history.history['loss'], label='train')\n",
    "plt.plot(history.epoch, history.history['val_loss'], label='valid')\n",
    "plt.xlabel('epoch')\n",
    "plt.ylabel('loss')\n",
    "plt.legend()\n",
    "plt.show()"
   ]
  },
  {
   "cell_type": "code",
   "execution_count": 51,
   "metadata": {},
   "outputs": [
    {
     "data": {
      "image/png": "[encoded data removed]",
      "text/plain": [
       "<matplotlib.figure.Figure at 0x114d16a20>"
      ]
     },
     "metadata": {},
     "output_type": "display_data"
    }
   ],
   "source": [
    "plt.plot(history.epoch, history.history['sparse_categorical_accuracy'], label='train')\n",
    "plt.plot(history.epoch, history.history['val_sparse_categorical_accuracy'], label='valid')\n",
    "plt.xlabel('epoch')\n",
    "plt.ylabel('accuracy')\n",
    "plt.legend()\n",
    "plt.show()"
   ]
  },
  {
   "cell_type": "code",
   "execution_count": null,
   "metadata": {},
   "outputs": [],
   "source": []
  }
 ],
 "metadata": {
  "kernelspec": {
   "display_name": "Python 3",
   "language": "python",
   "name": "python3"
  },
  "language_info": {
   "codemirror_mode": {
    "name": "ipython",
    "version": 3
   },
   "file_extension": ".py",
   "mimetype": "text/x-python",
   "name": "python",
   "nbconvert_exporter": "python",
   "pygments_lexer": "ipython3",
   "version": "3.6.2"
  }
 },
 "nbformat": 4,
 "nbformat_minor": 2
}
